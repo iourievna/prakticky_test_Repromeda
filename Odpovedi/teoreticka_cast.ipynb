{
 "cells": [
  {
   "cell_type": "markdown",
   "id": "5c48b7ca",
   "metadata": {},
   "source": [
    "# Teoretická/vyhledávací část - odpovědi"
   ]
  },
  {
   "cell_type": "markdown",
   "id": "b7ecc078",
   "metadata": {},
   "source": [
    "### 1.\n",
    "\n",
    "GATTTCTTACAAAAGCAAGAATATAAGACATTGGAATATAACTTAACGACTACAGAAGTA\n",
    "\n",
    "GTGATGGAGAATGTAACAGCCTTCTGGGAGGAG  "
   ]
  },
  {
   "cell_type": "markdown",
   "id": "a9b68768",
   "metadata": {},
   "source": [
    "### 2.\n",
    "Cystická fibróza je nejčastější dědičně recesivní onemocnění způsobené mutacemi v genu CFTR.\n",
    "\n",
    "Cystická fibróza postihuje zejména dýchací a trávící systém, ale i některé další orgány. Onemocnění se projevuje především opakovanými infekcemi dýchacích cest, které postupně způsobují fatální poškození plic. Nemocní také vzhledem k poruše funkce slinivky břišní špatně tráví jídlo. Proto musí ke každému jídlu užívat trávicí enzymy. Častou komplikací je cukrovka, cirhóza jater, osteoporóza a další přidružená onemocnění. CF také způsobuje neplodnost u mužů a u žen snižuje šanci na početí. \n",
    "\n",
    "Zdroj: https://klubcf.cz/o-cysticke-fibroze/o-nemoci/co-je-cysticka-fibroza/"
   ]
  },
  {
   "cell_type": "markdown",
   "id": "422e992a",
   "metadata": {},
   "source": [
    "### 3. \n",
    "Autozomálně recesivní je jeden z několika typů dědičnosti, jakými se může v rodině přenášet nějaký znak nebo i genetická porucha. U autozomálně recesivního onemocnění platí, že pro vznik onemocnění musí být přítomny dvě kopie abnormálního genu."
   ]
  },
  {
   "cell_type": "markdown",
   "id": "15a26c84",
   "metadata": {},
   "source": [
    "### 4.\n",
    "Jedním ze způsobů je vytvořit SQL databíze pomocí command line na Linux.\n",
    "\n",
    "- první krok je přihlasit se do MySQL server přes command line, zadáním uživatele _root_ pomocí parametru _-u_ a výzvou k zadání hesla pomocí parametru _-p_. Poté zadat své aktuální heslo."
   ]
  },
  {
   "cell_type": "code",
   "execution_count": null,
   "id": "37f11a6a",
   "metadata": {},
   "outputs": [],
   "source": [
    "mysql -u root -p"
   ]
  },
  {
   "cell_type": "markdown",
   "id": "331ff9ad",
   "metadata": {},
   "source": [
    "Pro vytvoření databáze s názvem _priklad_database_, zadat následující příkaz:"
   ]
  },
  {
   "cell_type": "code",
   "execution_count": null,
   "id": "b615dd08",
   "metadata": {},
   "outputs": [],
   "source": [
    "CREATE DATABASE priklad_database;"
   ]
  },
  {
   "cell_type": "markdown",
   "id": "dc3802e7",
   "metadata": {},
   "source": [
    "Pokud databáze se stejným názvem již existuje, systém nevytvoří novou databázi a zobrazí se následující chyba:"
   ]
  },
  {
   "cell_type": "code",
   "execution_count": null,
   "id": "68b61851",
   "metadata": {},
   "outputs": [],
   "source": [
    "ERROR 1007 (HY000): Can't create database 'priklad_database'; database exists"
   ]
  },
  {
   "cell_type": "markdown",
   "id": "e25e50de",
   "metadata": {},
   "source": [
    "Této chybě se možné vyhnout pomocí následujícího příkazu. \n",
    "\n",
    "Databázi _priklad_database_ vytvoří pouze v případě, že databáze s tímto názvem zatím neexistuje."
   ]
  },
  {
   "cell_type": "code",
   "execution_count": null,
   "id": "a0295028",
   "metadata": {},
   "outputs": [],
   "source": [
    "CREATE DATABASE IF NOT EXISTS priklad_database;"
   ]
  },
  {
   "cell_type": "markdown",
   "id": "afe2597e",
   "metadata": {},
   "source": [
    "### 5. \n",
    "SQL injection je typ útoku, který napadá databázovou vrstvu vsunutím (odtud slovo injection) kódu přes neošetřený vstup. S pomocí takto vsunutého kódu může útočník získat citlivé osobní informace.\n",
    "\n",
    "Jak se tomu bránit:\n",
    "\n",
    "- Parametrizované dotazy\n",
    "- Manuální escapování\n",
    "- Ochrana na straně databáze\n",
    "- Databázové knihovny \n",
    "\n",
    "\n",
    "Zdroj: https://www.itnetwork.cz/php/bezpecnost/jak-se-branit-proti-sql-injection"
   ]
  },
  {
   "cell_type": "markdown",
   "id": "3ae17e2b",
   "metadata": {},
   "source": [
    "\n",
    "### 6. \n",
    "\n",
    "Je možné přidat `dbDisconnect(obj)` k vytvořenému objectu, aby to ukončilo příslušné připojení pokaždé když provedení query.\n",
    "\n",
    "Nebo napsát funkci na začatku, která odstraní chybu:\n"
   ]
  },
  {
   "cell_type": "code",
   "execution_count": null,
   "id": "3eae216c",
   "metadata": {},
   "outputs": [],
   "source": [
    "library(RMySQL)\n",
    "\n",
    "sqlQuery <- function (query) {\n",
    "\n",
    "  # creating DB connection object with RMysql package\n",
    "  DB <- dbConnect(MySQL(), user=\"youruser\", password='yourpassword', dbname='yourdb', host='192.168.178.1')\n",
    "\n",
    "  # close db connection after function call exits\n",
    "  on.exit(dbDisconnect(DB))\n",
    "\n",
    "  # send Query to btain result set\n",
    "  rs <- dbSendQuery(DB, query)\n",
    "\n",
    "  # get elements from result sets and convert to dataframe\n",
    "  result <- fetch(rs, -1)\n",
    "\n",
    "  # return the dataframe\n",
    "  return(result)\n",
    "}"
   ]
  },
  {
   "cell_type": "markdown",
   "id": "cb816992",
   "metadata": {},
   "source": [
    "Zdroj: https://stackoverflow.com/questions/32139596/cannot-allocate-a-new-connection-16-connections-already-opened-rmysql"
   ]
  },
  {
   "cell_type": "markdown",
   "id": "aa9c13f2",
   "metadata": {},
   "source": [
    "### 7. \n",
    "“Error in if: argument is of length zero” míže se objevit když použiváme if statementy v R jazyce.\n",
    "\n",
    "Tady je pžíklad.\n",
    "Vytvoříme prazdný data object:"
   ]
  },
  {
   "cell_type": "code",
   "execution_count": null,
   "id": "4eb2e688",
   "metadata": {},
   "outputs": [],
   "source": [
    "x1 <- numeric()        # Create empty data object\n",
    "x1                     # Print empty data object\n",
    "# numeric(0)"
   ]
  },
  {
   "cell_type": "markdown",
   "id": "9a578d9c",
   "metadata": {},
   "source": [
    "Dále chceme použit tento object s if() funkcí:"
   ]
  },
  {
   "cell_type": "code",
   "execution_count": null,
   "id": "bdb690b8",
   "metadata": {},
   "outputs": [],
   "source": [
    "if(x1 > 5) {           # Using empty data object in if-statement\n",
    "  x1\n",
    "}\n",
    "# Error in if (x > 5) { : argument is of length zero"
   ]
  },
  {
   "cell_type": "markdown",
   "id": "5069c00e",
   "metadata": {},
   "source": [
    "Tady se objeví ten error. Použili jsme prázdný data object v logické podmínce v rámci if statementu (tj. x1 > 5). V R to není možné, a proto máme tu chybu.\n",
    "\n",
    "Řešením by bylo vytvořit vektorový object, který nemá lenght of zero:"
   ]
  },
  {
   "cell_type": "code",
   "execution_count": null,
   "id": "9b464980",
   "metadata": {},
   "outputs": [],
   "source": [
    "x2 <- 10               # Create numeric data object\n",
    "x2                     # Print data object\n",
    "# 10"
   ]
  },
  {
   "cell_type": "markdown",
   "id": "d83d6584",
   "metadata": {},
   "source": [
    "Teď použijeme nový object v našem if statementu:"
   ]
  },
  {
   "cell_type": "code",
   "execution_count": null,
   "id": "da13a84d",
   "metadata": {},
   "outputs": [],
   "source": [
    "if(x2 > 5) {           # Using numeric data object in if-statement\n",
    "  x2\n",
    "}\n",
    "# 10"
   ]
  },
  {
   "cell_type": "markdown",
   "id": "7459fdfd",
   "metadata": {},
   "source": [
    "Zdroj: https://statisticsglobe.com/error-argument-is-of-length-zero-in-r#example-1-reproduce-the-error-argument-is-of-length-zero"
   ]
  },
  {
   "cell_type": "markdown",
   "id": "edf20dab",
   "metadata": {},
   "source": [
    "### 8. \n",
    "Sekvenování nové generace se používá k identifikaci nových a vzácných rakovinných mutací, detekci familiárních nositelů rakovinných mutací a poskytuje molekulární zdůvodnění pro vhodnou cílenou léčbu.\n",
    "\n",
    "Zdroj: https://www.ncbi.nlm.nih.gov/pmc/articles/PMC3777453/"
   ]
  },
  {
   "cell_type": "code",
   "execution_count": null,
   "id": "58b8c0e0",
   "metadata": {},
   "outputs": [],
   "source": []
  }
 ],
 "metadata": {
  "kernelspec": {
   "display_name": "Python 3 (ipykernel)",
   "language": "python",
   "name": "python3"
  },
  "language_info": {
   "codemirror_mode": {
    "name": "ipython",
    "version": 3
   },
   "file_extension": ".py",
   "mimetype": "text/x-python",
   "name": "python",
   "nbconvert_exporter": "python",
   "pygments_lexer": "ipython3",
   "version": "3.11.5"
  }
 },
 "nbformat": 4,
 "nbformat_minor": 5
}
